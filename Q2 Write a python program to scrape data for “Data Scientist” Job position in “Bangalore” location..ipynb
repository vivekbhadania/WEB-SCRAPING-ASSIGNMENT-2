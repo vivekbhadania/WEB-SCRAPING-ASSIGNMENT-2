{
 "cells": [
  {
   "cell_type": "code",
   "execution_count": 1,
   "id": "c2fc1c32",
   "metadata": {},
   "outputs": [
    {
     "name": "stdout",
     "output_type": "stream",
     "text": [
      "Requirement already satisfied: selenium in c:\\programdata\\anaconda3\\lib\\site-packages (4.2.0)\n",
      "Requirement already satisfied: urllib3[secure,socks]~=1.26 in c:\\programdata\\anaconda3\\lib\\site-packages (from selenium) (1.26.7)\n",
      "Requirement already satisfied: trio~=0.17 in c:\\programdata\\anaconda3\\lib\\site-packages (from selenium) (0.20.0)\n",
      "Requirement already satisfied: trio-websocket~=0.9 in c:\\programdata\\anaconda3\\lib\\site-packages (from selenium) (0.9.2)\n",
      "Requirement already satisfied: outcome in c:\\programdata\\anaconda3\\lib\\site-packages (from trio~=0.17->selenium) (1.1.0)\n",
      "Requirement already satisfied: attrs>=19.2.0 in c:\\programdata\\anaconda3\\lib\\site-packages (from trio~=0.17->selenium) (21.2.0)\n",
      "Requirement already satisfied: idna in c:\\programdata\\anaconda3\\lib\\site-packages (from trio~=0.17->selenium) (3.2)\n",
      "Requirement already satisfied: async-generator>=1.9 in c:\\programdata\\anaconda3\\lib\\site-packages (from trio~=0.17->selenium) (1.10)\n",
      "Requirement already satisfied: cffi>=1.14 in c:\\programdata\\anaconda3\\lib\\site-packages (from trio~=0.17->selenium) (1.14.6)\n",
      "Requirement already satisfied: sniffio in c:\\programdata\\anaconda3\\lib\\site-packages (from trio~=0.17->selenium) (1.2.0)\n",
      "Requirement already satisfied: sortedcontainers in c:\\programdata\\anaconda3\\lib\\site-packages (from trio~=0.17->selenium) (2.4.0)\n",
      "Requirement already satisfied: pycparser in c:\\programdata\\anaconda3\\lib\\site-packages (from cffi>=1.14->trio~=0.17->selenium) (2.20)\n",
      "Requirement already satisfied: wsproto>=0.14 in c:\\programdata\\anaconda3\\lib\\site-packages (from trio-websocket~=0.9->selenium) (1.1.0)\n",
      "Requirement already satisfied: pyOpenSSL>=0.14 in c:\\programdata\\anaconda3\\lib\\site-packages (from urllib3[secure,socks]~=1.26->selenium) (21.0.0)\n",
      "Requirement already satisfied: cryptography>=1.3.4 in c:\\programdata\\anaconda3\\lib\\site-packages (from urllib3[secure,socks]~=1.26->selenium) (3.4.8)\n",
      "Requirement already satisfied: certifi in c:\\programdata\\anaconda3\\lib\\site-packages (from urllib3[secure,socks]~=1.26->selenium) (2021.10.8)\n",
      "Requirement already satisfied: PySocks!=1.5.7,<2.0,>=1.5.6 in c:\\programdata\\anaconda3\\lib\\site-packages (from urllib3[secure,socks]~=1.26->selenium) (1.7.1)\n",
      "Requirement already satisfied: six>=1.5.2 in c:\\programdata\\anaconda3\\lib\\site-packages (from pyOpenSSL>=0.14->urllib3[secure,socks]~=1.26->selenium) (1.16.0)\n",
      "Requirement already satisfied: h11<1,>=0.9.0 in c:\\programdata\\anaconda3\\lib\\site-packages (from wsproto>=0.14->trio-websocket~=0.9->selenium) (0.13.0)\n"
     ]
    }
   ],
   "source": [
    "#First install the Selenium\n",
    "\n",
    "!pip install selenium"
   ]
  },
  {
   "cell_type": "code",
   "execution_count": 2,
   "id": "e4528d6c",
   "metadata": {},
   "outputs": [],
   "source": [
    "#import all required libraries \n",
    "import selenium\n",
    "import pandas as pd\n",
    "from selenium import webdriver\n",
    "import warnings\n",
    "warnings.filterwarnings('ignore')\n",
    "import time\n",
    "from selenium.webdriver.common.keys import Keys"
   ]
  },
  {
   "cell_type": "markdown",
   "id": "6c3d47aa",
   "metadata": {},
   "source": [
    "# Q2: Write a python program to scrape data for “Data Scientist” Job position in “Bangalore” location."
   ]
  },
  {
   "cell_type": "markdown",
   "id": "9c5db98d",
   "metadata": {},
   "source": [
    "You have to scrape the job-title, job-location, company_name. You have to scrape first 10 jobs data."
   ]
  },
  {
   "cell_type": "markdown",
   "id": "06ee51ca",
   "metadata": {},
   "source": [
    "This task will be done in following steps:\n",
    "1. First get the webpage https://www.naukri.com/\n",
    "2. Enter “Data Scientist” in “Skill, Designations, Companies” field and enter “Bangalore” in “enter the\n",
    "location” field.\n",
    "3. Then click the search button.\n",
    "4. Then scrape the data for the first 10 jobs results you get.\n",
    "5. Finally create a dataframe of the scraped data."
   ]
  },
  {
   "cell_type": "code",
   "execution_count": 3,
   "id": "ac6f0e31",
   "metadata": {},
   "outputs": [],
   "source": [
    "#lets connect with webdriver\n",
    "\n",
    "driver = webdriver.Chrome('chromedriver.exe')"
   ]
  },
  {
   "cell_type": "code",
   "execution_count": 4,
   "id": "50c3fa74",
   "metadata": {},
   "outputs": [],
   "source": [
    "#onpening the naukri.com website on automated chrome window\n",
    "driver.get('https://www.naukri.com/')\n"
   ]
  },
  {
   "cell_type": "code",
   "execution_count": 5,
   "id": "e638f067",
   "metadata": {},
   "outputs": [],
   "source": [
    "#Finding element for job search bar\n",
    "\n",
    "search_field_for_designation = driver.find_element_by_class_name('suggestor-input ')\n",
    "search_field_for_designation.send_keys('data scientist')"
   ]
  },
  {
   "cell_type": "code",
   "execution_count": 6,
   "id": "35aa50a7",
   "metadata": {},
   "outputs": [],
   "source": [
    "#Entering Location banglore in location search bar\n",
    "#search_field_for_designation = driver.find_element_by_class_name('suggestor-input ')\n",
    "#here we have check that we are getting same class name so we have to use xpath for this"
   ]
  },
  {
   "cell_type": "code",
   "execution_count": 7,
   "id": "802a7449",
   "metadata": {},
   "outputs": [],
   "source": [
    "##Entering Location banglore in location search bar using xpath\n",
    "\n",
    "search_field_for_designation = driver.find_element_by_xpath(\"/html/body/div/div[2]/div[3]/div/div/div[5]/div/div/div/input\")\n",
    "search_field_for_designation.send_keys('banglore')"
   ]
  },
  {
   "cell_type": "code",
   "execution_count": 8,
   "id": "35449862",
   "metadata": {},
   "outputs": [],
   "source": [
    "##Clicking on search bar button\n",
    "\n",
    "click_button =driver.find_element_by_xpath('/html/body/div/div[2]/div[3]/div/div/div[6]')\n",
    "click_button.click()"
   ]
  },
  {
   "cell_type": "code",
   "execution_count": 9,
   "id": "3eee4c54",
   "metadata": {},
   "outputs": [
    {
     "data": {
      "text/plain": [
       "[<selenium.webdriver.remote.webelement.WebElement (session=\"6ce2f9d3be072fb2ac90a828d3bcf67c\", element=\"74eb44da-b102-4681-b30e-27519f6ce685\")>,\n",
       " <selenium.webdriver.remote.webelement.WebElement (session=\"6ce2f9d3be072fb2ac90a828d3bcf67c\", element=\"70275e0e-5830-45d3-a124-7946a239b497\")>,\n",
       " <selenium.webdriver.remote.webelement.WebElement (session=\"6ce2f9d3be072fb2ac90a828d3bcf67c\", element=\"dca7126a-8f98-437b-ae99-87371e851137\")>,\n",
       " <selenium.webdriver.remote.webelement.WebElement (session=\"6ce2f9d3be072fb2ac90a828d3bcf67c\", element=\"a315096f-1700-45da-a8f5-83ab9d6910bd\")>,\n",
       " <selenium.webdriver.remote.webelement.WebElement (session=\"6ce2f9d3be072fb2ac90a828d3bcf67c\", element=\"d386e1b2-9b12-4024-bcf1-d3068f0a4337\")>,\n",
       " <selenium.webdriver.remote.webelement.WebElement (session=\"6ce2f9d3be072fb2ac90a828d3bcf67c\", element=\"8a277afd-f910-4dfa-9eb6-f9d271e766eb\")>,\n",
       " <selenium.webdriver.remote.webelement.WebElement (session=\"6ce2f9d3be072fb2ac90a828d3bcf67c\", element=\"9c4c4537-f24d-40bc-95b1-f20899bf52c3\")>,\n",
       " <selenium.webdriver.remote.webelement.WebElement (session=\"6ce2f9d3be072fb2ac90a828d3bcf67c\", element=\"1d09bcb8-a5b5-492f-bc4f-dc10cd22e7c4\")>,\n",
       " <selenium.webdriver.remote.webelement.WebElement (session=\"6ce2f9d3be072fb2ac90a828d3bcf67c\", element=\"2384dbc6-b38a-4915-8903-815a4c5c88ae\")>,\n",
       " <selenium.webdriver.remote.webelement.WebElement (session=\"6ce2f9d3be072fb2ac90a828d3bcf67c\", element=\"5bfe170a-28c4-4ed3-91e6-2efee9ce353f\")>]"
      ]
     },
     "execution_count": 9,
     "metadata": {},
     "output_type": "execute_result"
    }
   ],
   "source": [
    "#lets extract job_title\n",
    "\n",
    "title = driver.find_elements_by_xpath(\"//a[@class='title fw500 ellipsis']\")\n",
    "\n",
    "title[0:10]"
   ]
  },
  {
   "cell_type": "code",
   "execution_count": 10,
   "id": "6783c987",
   "metadata": {},
   "outputs": [
    {
     "data": {
      "text/plain": [
       "['Senior Data Scientist',\n",
       " 'Data Science - Engineering Manager',\n",
       " 'AI Technologist Vacancy',\n",
       " 'Job Opening with Wipro For Data Scientist position',\n",
       " 'DATA Scientist with Fraud Analytics Experience',\n",
       " 'Data Scientist',\n",
       " 'Data Scientist',\n",
       " 'Data Scientist',\n",
       " 'Data Scientist',\n",
       " 'Principal - Data Scientist']"
      ]
     },
     "execution_count": 10,
     "metadata": {},
     "output_type": "execute_result"
    }
   ],
   "source": [
    "#lets extract the text from the title\n",
    "\n",
    "job_title = []\n",
    "\n",
    "for i in title[0:10]:\n",
    "    job_title.append(i.text)\n",
    "\n",
    "    \n",
    "job_title\n",
    "    \n",
    "    "
   ]
  },
  {
   "cell_type": "code",
   "execution_count": 11,
   "id": "5a1ce1ac",
   "metadata": {},
   "outputs": [
    {
     "data": {
      "text/plain": [
       "[<selenium.webdriver.remote.webelement.WebElement (session=\"6ce2f9d3be072fb2ac90a828d3bcf67c\", element=\"9614d4b0-cc96-4833-8292-993ea461e0ad\")>,\n",
       " <selenium.webdriver.remote.webelement.WebElement (session=\"6ce2f9d3be072fb2ac90a828d3bcf67c\", element=\"ca126acd-fbad-404b-8d70-b93c0ec65fd1\")>,\n",
       " <selenium.webdriver.remote.webelement.WebElement (session=\"6ce2f9d3be072fb2ac90a828d3bcf67c\", element=\"69e63f96-2ea2-4645-a333-85120e728971\")>,\n",
       " <selenium.webdriver.remote.webelement.WebElement (session=\"6ce2f9d3be072fb2ac90a828d3bcf67c\", element=\"068ced83-0b4e-4f29-abc0-2f28311b5e25\")>,\n",
       " <selenium.webdriver.remote.webelement.WebElement (session=\"6ce2f9d3be072fb2ac90a828d3bcf67c\", element=\"f013814b-6d7e-44a0-b367-b637ffbfde19\")>,\n",
       " <selenium.webdriver.remote.webelement.WebElement (session=\"6ce2f9d3be072fb2ac90a828d3bcf67c\", element=\"00c842ad-ebd2-4987-8033-6ae3f2d45613\")>,\n",
       " <selenium.webdriver.remote.webelement.WebElement (session=\"6ce2f9d3be072fb2ac90a828d3bcf67c\", element=\"5af89e3e-359a-4380-8bd6-1c0823826e1c\")>,\n",
       " <selenium.webdriver.remote.webelement.WebElement (session=\"6ce2f9d3be072fb2ac90a828d3bcf67c\", element=\"38e4c985-058f-464a-bba3-d219ddcae74d\")>,\n",
       " <selenium.webdriver.remote.webelement.WebElement (session=\"6ce2f9d3be072fb2ac90a828d3bcf67c\", element=\"45e7962b-8fbb-437a-9cd5-1ed69fce8571\")>,\n",
       " <selenium.webdriver.remote.webelement.WebElement (session=\"6ce2f9d3be072fb2ac90a828d3bcf67c\", element=\"0ba04380-6576-49fc-9624-939b780e17cd\")>]"
      ]
     },
     "execution_count": 11,
     "metadata": {},
     "output_type": "execute_result"
    }
   ],
   "source": [
    "#lets extract the job_location\n",
    "\n",
    "location = driver.find_elements_by_xpath(\"//li[@class = 'fleft grey-text br2 placeHolderLi location']/span[1]\")\n",
    "\n",
    "location[0:10]"
   ]
  },
  {
   "cell_type": "code",
   "execution_count": 12,
   "id": "1701e450",
   "metadata": {},
   "outputs": [
    {
     "data": {
      "text/plain": [
       "['Mumbai, Bangalore/Bengaluru',\n",
       " 'Noida, Mumbai, Bangalore/Bengaluru',\n",
       " 'Kolkata, Hyderabad/Secunderabad, Pune, Ahmedabad, Chennai, Bangalore/Bengaluru, Delhi / NCR, Mumbai (All Areas)',\n",
       " 'Kolkata, Hyderabad/Secunderabad, Chennai, Bangalore/Bengaluru, Delhi / NCR, Mumbai (All Areas)',\n",
       " 'Bangalore/Bengaluru',\n",
       " 'Bangalore/Bengaluru',\n",
       " 'Bangalore/Bengaluru',\n",
       " 'Bangalore/Bengaluru',\n",
       " 'Bangalore/Bengaluru',\n",
       " 'Bangalore/Bengaluru']"
      ]
     },
     "execution_count": 12,
     "metadata": {},
     "output_type": "execute_result"
    }
   ],
   "source": [
    "#lets extract text from the location\n",
    "\n",
    "job_location = []\n",
    "\n",
    "for i in location[0:10]:\n",
    "    job_location.append(i.text)\n",
    "    \n",
    "job_location    "
   ]
  },
  {
   "cell_type": "code",
   "execution_count": 13,
   "id": "c7aa0672",
   "metadata": {},
   "outputs": [
    {
     "data": {
      "text/plain": [
       "[<selenium.webdriver.remote.webelement.WebElement (session=\"6ce2f9d3be072fb2ac90a828d3bcf67c\", element=\"2da0c358-1129-46fb-8ec6-26cb49ce31d9\")>,\n",
       " <selenium.webdriver.remote.webelement.WebElement (session=\"6ce2f9d3be072fb2ac90a828d3bcf67c\", element=\"2097c849-a6af-42b6-a7c5-fa6bd83ce6b7\")>,\n",
       " <selenium.webdriver.remote.webelement.WebElement (session=\"6ce2f9d3be072fb2ac90a828d3bcf67c\", element=\"4fb0b71f-6733-479d-86fe-92cb343b5b7c\")>,\n",
       " <selenium.webdriver.remote.webelement.WebElement (session=\"6ce2f9d3be072fb2ac90a828d3bcf67c\", element=\"bfc67939-fede-4974-9eac-0190b27e85f3\")>,\n",
       " <selenium.webdriver.remote.webelement.WebElement (session=\"6ce2f9d3be072fb2ac90a828d3bcf67c\", element=\"8021f651-88ba-4d26-9e71-b7232b8ca861\")>,\n",
       " <selenium.webdriver.remote.webelement.WebElement (session=\"6ce2f9d3be072fb2ac90a828d3bcf67c\", element=\"ec1ad1f2-cb60-422a-b924-8d95b134c4bf\")>,\n",
       " <selenium.webdriver.remote.webelement.WebElement (session=\"6ce2f9d3be072fb2ac90a828d3bcf67c\", element=\"9d654019-c942-40ea-b56d-e9e39093f19c\")>,\n",
       " <selenium.webdriver.remote.webelement.WebElement (session=\"6ce2f9d3be072fb2ac90a828d3bcf67c\", element=\"e4607ed5-558d-4774-b298-dd90a8900b98\")>,\n",
       " <selenium.webdriver.remote.webelement.WebElement (session=\"6ce2f9d3be072fb2ac90a828d3bcf67c\", element=\"66027f63-c16e-413c-9e7e-43c8f1a6cd70\")>,\n",
       " <selenium.webdriver.remote.webelement.WebElement (session=\"6ce2f9d3be072fb2ac90a828d3bcf67c\", element=\"2193529b-75b4-4248-baf2-7bcfcfc4d0cb\")>]"
      ]
     },
     "execution_count": 13,
     "metadata": {},
     "output_type": "execute_result"
    }
   ],
   "source": [
    "#lets extract company name\n",
    "\n",
    "company =driver.find_elements_by_xpath(\"//a[@class='subTitle ellipsis fleft']\")\n",
    "\n",
    "company[0:10]"
   ]
  },
  {
   "cell_type": "code",
   "execution_count": 14,
   "id": "5cc623cf",
   "metadata": {},
   "outputs": [
    {
     "data": {
      "text/plain": [
       "['Baker Hughes',\n",
       " 'Paytm',\n",
       " 'Wipro',\n",
       " 'Wipro',\n",
       " 'Concentrix Daksh Services',\n",
       " 'Applied Materials',\n",
       " 'Applied Materials',\n",
       " 'Applied Materials',\n",
       " 'Applied Materials',\n",
       " 'Schneider Electric']"
      ]
     },
     "execution_count": 14,
     "metadata": {},
     "output_type": "execute_result"
    }
   ],
   "source": [
    "#lets extract text from the company\n",
    "\n",
    "company_name = []\n",
    "\n",
    "for i in company[0:10]:\n",
    "    company_name.append(i.text)\n",
    "    \n",
    "company_name    "
   ]
  },
  {
   "cell_type": "code",
   "execution_count": 15,
   "id": "1b5ee962",
   "metadata": {
    "scrolled": true
   },
   "outputs": [
    {
     "data": {
      "text/html": [
       "<div>\n",
       "<style scoped>\n",
       "    .dataframe tbody tr th:only-of-type {\n",
       "        vertical-align: middle;\n",
       "    }\n",
       "\n",
       "    .dataframe tbody tr th {\n",
       "        vertical-align: top;\n",
       "    }\n",
       "\n",
       "    .dataframe thead th {\n",
       "        text-align: right;\n",
       "    }\n",
       "</style>\n",
       "<table border=\"1\" class=\"dataframe\">\n",
       "  <thead>\n",
       "    <tr style=\"text-align: right;\">\n",
       "      <th></th>\n",
       "      <th>job_title</th>\n",
       "      <th>company_name</th>\n",
       "      <th>job_location</th>\n",
       "    </tr>\n",
       "  </thead>\n",
       "  <tbody>\n",
       "    <tr>\n",
       "      <th>0</th>\n",
       "      <td>Senior Data Scientist</td>\n",
       "      <td>Baker Hughes</td>\n",
       "      <td>Mumbai, Bangalore/Bengaluru</td>\n",
       "    </tr>\n",
       "    <tr>\n",
       "      <th>1</th>\n",
       "      <td>Data Science - Engineering Manager</td>\n",
       "      <td>Paytm</td>\n",
       "      <td>Noida, Mumbai, Bangalore/Bengaluru</td>\n",
       "    </tr>\n",
       "    <tr>\n",
       "      <th>2</th>\n",
       "      <td>AI Technologist Vacancy</td>\n",
       "      <td>Wipro</td>\n",
       "      <td>Kolkata, Hyderabad/Secunderabad, Pune, Ahmedab...</td>\n",
       "    </tr>\n",
       "    <tr>\n",
       "      <th>3</th>\n",
       "      <td>Job Opening with Wipro For Data Scientist posi...</td>\n",
       "      <td>Wipro</td>\n",
       "      <td>Kolkata, Hyderabad/Secunderabad, Chennai, Bang...</td>\n",
       "    </tr>\n",
       "    <tr>\n",
       "      <th>4</th>\n",
       "      <td>DATA Scientist with Fraud Analytics Experience</td>\n",
       "      <td>Concentrix Daksh Services</td>\n",
       "      <td>Bangalore/Bengaluru</td>\n",
       "    </tr>\n",
       "    <tr>\n",
       "      <th>5</th>\n",
       "      <td>Data Scientist</td>\n",
       "      <td>Applied Materials</td>\n",
       "      <td>Bangalore/Bengaluru</td>\n",
       "    </tr>\n",
       "    <tr>\n",
       "      <th>6</th>\n",
       "      <td>Data Scientist</td>\n",
       "      <td>Applied Materials</td>\n",
       "      <td>Bangalore/Bengaluru</td>\n",
       "    </tr>\n",
       "    <tr>\n",
       "      <th>7</th>\n",
       "      <td>Data Scientist</td>\n",
       "      <td>Applied Materials</td>\n",
       "      <td>Bangalore/Bengaluru</td>\n",
       "    </tr>\n",
       "    <tr>\n",
       "      <th>8</th>\n",
       "      <td>Data Scientist</td>\n",
       "      <td>Applied Materials</td>\n",
       "      <td>Bangalore/Bengaluru</td>\n",
       "    </tr>\n",
       "    <tr>\n",
       "      <th>9</th>\n",
       "      <td>Principal - Data Scientist</td>\n",
       "      <td>Schneider Electric</td>\n",
       "      <td>Bangalore/Bengaluru</td>\n",
       "    </tr>\n",
       "  </tbody>\n",
       "</table>\n",
       "</div>"
      ],
      "text/plain": [
       "                                           job_title  \\\n",
       "0                              Senior Data Scientist   \n",
       "1                 Data Science - Engineering Manager   \n",
       "2                            AI Technologist Vacancy   \n",
       "3  Job Opening with Wipro For Data Scientist posi...   \n",
       "4     DATA Scientist with Fraud Analytics Experience   \n",
       "5                                     Data Scientist   \n",
       "6                                     Data Scientist   \n",
       "7                                     Data Scientist   \n",
       "8                                     Data Scientist   \n",
       "9                         Principal - Data Scientist   \n",
       "\n",
       "                company_name  \\\n",
       "0               Baker Hughes   \n",
       "1                      Paytm   \n",
       "2                      Wipro   \n",
       "3                      Wipro   \n",
       "4  Concentrix Daksh Services   \n",
       "5          Applied Materials   \n",
       "6          Applied Materials   \n",
       "7          Applied Materials   \n",
       "8          Applied Materials   \n",
       "9         Schneider Electric   \n",
       "\n",
       "                                        job_location  \n",
       "0                        Mumbai, Bangalore/Bengaluru  \n",
       "1                 Noida, Mumbai, Bangalore/Bengaluru  \n",
       "2  Kolkata, Hyderabad/Secunderabad, Pune, Ahmedab...  \n",
       "3  Kolkata, Hyderabad/Secunderabad, Chennai, Bang...  \n",
       "4                                Bangalore/Bengaluru  \n",
       "5                                Bangalore/Bengaluru  \n",
       "6                                Bangalore/Bengaluru  \n",
       "7                                Bangalore/Bengaluru  \n",
       "8                                Bangalore/Bengaluru  \n",
       "9                                Bangalore/Bengaluru  "
      ]
     },
     "execution_count": 15,
     "metadata": {},
     "output_type": "execute_result"
    }
   ],
   "source": [
    "#lets make dataframe for this scrached data\n",
    "\n",
    "data = pd.DataFrame({'job_title':job_title,'company_name':company_name,'job_location':job_location})\n",
    "\n",
    "data"
   ]
  },
  {
   "cell_type": "code",
   "execution_count": null,
   "id": "8c3fd927",
   "metadata": {},
   "outputs": [],
   "source": []
  }
 ],
 "metadata": {
  "kernelspec": {
   "display_name": "Python 3 (ipykernel)",
   "language": "python",
   "name": "python3"
  },
  "language_info": {
   "codemirror_mode": {
    "name": "ipython",
    "version": 3
   },
   "file_extension": ".py",
   "mimetype": "text/x-python",
   "name": "python",
   "nbconvert_exporter": "python",
   "pygments_lexer": "ipython3",
   "version": "3.9.7"
  }
 },
 "nbformat": 4,
 "nbformat_minor": 5
}
