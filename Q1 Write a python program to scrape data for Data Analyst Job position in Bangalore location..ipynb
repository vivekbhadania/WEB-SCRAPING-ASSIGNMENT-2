{
 "cells": [
  {
   "cell_type": "code",
   "execution_count": 1,
   "id": "2968ac16",
   "metadata": {},
   "outputs": [
    {
     "name": "stdout",
     "output_type": "stream",
     "text": [
      "Requirement already satisfied: selenium in c:\\programdata\\anaconda3\\lib\\site-packages (4.2.0)\n",
      "Requirement already satisfied: trio-websocket~=0.9 in c:\\programdata\\anaconda3\\lib\\site-packages (from selenium) (0.9.2)\n",
      "Requirement already satisfied: urllib3[secure,socks]~=1.26 in c:\\programdata\\anaconda3\\lib\\site-packages (from selenium) (1.26.7)\n",
      "Requirement already satisfied: trio~=0.17 in c:\\programdata\\anaconda3\\lib\\site-packages (from selenium) (0.20.0)\n",
      "Requirement already satisfied: cffi>=1.14 in c:\\programdata\\anaconda3\\lib\\site-packages (from trio~=0.17->selenium) (1.14.6)\n",
      "Requirement already satisfied: sortedcontainers in c:\\programdata\\anaconda3\\lib\\site-packages (from trio~=0.17->selenium) (2.4.0)\n",
      "Requirement already satisfied: attrs>=19.2.0 in c:\\programdata\\anaconda3\\lib\\site-packages (from trio~=0.17->selenium) (21.2.0)\n",
      "Requirement already satisfied: sniffio in c:\\programdata\\anaconda3\\lib\\site-packages (from trio~=0.17->selenium) (1.2.0)\n",
      "Requirement already satisfied: async-generator>=1.9 in c:\\programdata\\anaconda3\\lib\\site-packages (from trio~=0.17->selenium) (1.10)\n",
      "Requirement already satisfied: idna in c:\\programdata\\anaconda3\\lib\\site-packages (from trio~=0.17->selenium) (3.2)\n",
      "Requirement already satisfied: outcome in c:\\programdata\\anaconda3\\lib\\site-packages (from trio~=0.17->selenium) (1.1.0)\n",
      "Requirement already satisfied: pycparser in c:\\programdata\\anaconda3\\lib\\site-packages (from cffi>=1.14->trio~=0.17->selenium) (2.20)\n",
      "Requirement already satisfied: wsproto>=0.14 in c:\\programdata\\anaconda3\\lib\\site-packages (from trio-websocket~=0.9->selenium) (1.1.0)\n",
      "Requirement already satisfied: PySocks!=1.5.7,<2.0,>=1.5.6 in c:\\programdata\\anaconda3\\lib\\site-packages (from urllib3[secure,socks]~=1.26->selenium) (1.7.1)\n",
      "Requirement already satisfied: pyOpenSSL>=0.14 in c:\\programdata\\anaconda3\\lib\\site-packages (from urllib3[secure,socks]~=1.26->selenium) (21.0.0)\n",
      "Requirement already satisfied: cryptography>=1.3.4 in c:\\programdata\\anaconda3\\lib\\site-packages (from urllib3[secure,socks]~=1.26->selenium) (3.4.8)\n",
      "Requirement already satisfied: certifi in c:\\programdata\\anaconda3\\lib\\site-packages (from urllib3[secure,socks]~=1.26->selenium) (2021.10.8)\n",
      "Requirement already satisfied: six>=1.5.2 in c:\\programdata\\anaconda3\\lib\\site-packages (from pyOpenSSL>=0.14->urllib3[secure,socks]~=1.26->selenium) (1.16.0)\n",
      "Requirement already satisfied: h11<1,>=0.9.0 in c:\\programdata\\anaconda3\\lib\\site-packages (from wsproto>=0.14->trio-websocket~=0.9->selenium) (0.13.0)\n"
     ]
    }
   ],
   "source": [
    "#First install the Selenium\n",
    "\n",
    "!pip install selenium"
   ]
  },
  {
   "cell_type": "code",
   "execution_count": 2,
   "id": "aefced4b",
   "metadata": {},
   "outputs": [],
   "source": [
    "#import all required libraries \n",
    "import selenium\n",
    "import pandas as pd\n",
    "from selenium import webdriver\n",
    "import warnings\n",
    "warnings.filterwarnings('ignore')\n",
    "import time\n",
    "from selenium.webdriver.common.keys import Keys"
   ]
  },
  {
   "cell_type": "markdown",
   "id": "c3c79de0",
   "metadata": {},
   "source": [
    "# Q1: Write a python program to scrape data for “Data Analyst” Job position in “Bangalore” location."
   ]
  },
  {
   "cell_type": "markdown",
   "id": "c79d4205",
   "metadata": {},
   "source": [
    "You have to scrape the job-title, job-location, company_name, experience_required. You have to scrape first 10 jobs data.\n"
   ]
  },
  {
   "cell_type": "markdown",
   "id": "ac0a6d39",
   "metadata": {},
   "source": [
    "This task will be done in following steps:\n",
    "1. First get the webpage https://www.naukri.com/\n",
    "2. Enter “Data Analyst” in “Skill, Designations, Companies” field and enter “Bangalore” in “enter the\n",
    "location” field.\n",
    "3. Then click the search button.\n",
    "4. Then scrape the data for the first 10 jobs results you get.\n",
    "5. Finally create a dataframe of the scraped data."
   ]
  },
  {
   "cell_type": "code",
   "execution_count": 3,
   "id": "8568dca8",
   "metadata": {
    "scrolled": false
   },
   "outputs": [],
   "source": [
    "#lets connect with web driver\n",
    "\n",
    "driver = webdriver.Chrome(\"C:\\Webb Driver\\chromedriver.exe\")\n"
   ]
  },
  {
   "cell_type": "code",
   "execution_count": 4,
   "id": "d2d1926f",
   "metadata": {},
   "outputs": [],
   "source": [
    "#onpening the naukri.com website on automated chrome window\n",
    "driver.get('https://www.naukri.com/')"
   ]
  },
  {
   "cell_type": "code",
   "execution_count": 5,
   "id": "75fa21df",
   "metadata": {},
   "outputs": [],
   "source": [
    "#Finding element for job search bar\n",
    "search_field_designation=driver.find_element_by_class_name('suggestor-input ')  #job search bar\n",
    "search_field_designation.send_keys('Data analyst')"
   ]
  },
  {
   "cell_type": "code",
   "execution_count": 6,
   "id": "d3be19cf",
   "metadata": {},
   "outputs": [],
   "source": [
    "#Entering Location banglore in location search bar\n",
    "#search_field_loc=driver.find_element_by_class_name('suggestor-input') #here for location same class name came so we have to use absolute xpath\n",
    "#search_field_loc.send_keys('banglore')"
   ]
  },
  {
   "cell_type": "code",
   "execution_count": 7,
   "id": "52456ba1",
   "metadata": {},
   "outputs": [],
   "source": [
    "search_field_loc=driver.find_element_by_xpath('/html/body/div/div[2]/div[3]/div/div/div[5]/div/div/div/input')\n",
    "search_field_loc.send_keys('banglore')"
   ]
  },
  {
   "cell_type": "code",
   "execution_count": 8,
   "id": "cd47a0fd",
   "metadata": {},
   "outputs": [],
   "source": [
    "#Clicking on search bar button\n",
    "\n",
    "search_button = driver.find_element_by_xpath('/html/body/div/div[2]/div[3]/div/div/div[6]')\n",
    "search_button.click()"
   ]
  },
  {
   "cell_type": "code",
   "execution_count": 9,
   "id": "8c90d840",
   "metadata": {},
   "outputs": [
    {
     "data": {
      "text/plain": [
       "[<selenium.webdriver.remote.webelement.WebElement (session=\"dad919ca63a409cb2bf8415c7b3f938c\", element=\"13701b1e-32da-4ee3-8d8d-f44f885b94ee\")>,\n",
       " <selenium.webdriver.remote.webelement.WebElement (session=\"dad919ca63a409cb2bf8415c7b3f938c\", element=\"135f2396-015d-4df1-9960-ce9ebedb90c1\")>,\n",
       " <selenium.webdriver.remote.webelement.WebElement (session=\"dad919ca63a409cb2bf8415c7b3f938c\", element=\"1a3ec3da-ac57-48cf-924e-b1f744e64ca4\")>,\n",
       " <selenium.webdriver.remote.webelement.WebElement (session=\"dad919ca63a409cb2bf8415c7b3f938c\", element=\"90defa17-3cf3-4e12-b7f6-c1efa82345af\")>,\n",
       " <selenium.webdriver.remote.webelement.WebElement (session=\"dad919ca63a409cb2bf8415c7b3f938c\", element=\"07be872c-7862-4ae5-85cb-de793a1a7d08\")>,\n",
       " <selenium.webdriver.remote.webelement.WebElement (session=\"dad919ca63a409cb2bf8415c7b3f938c\", element=\"5df08093-dad2-433d-87d0-c3d1718cdbad\")>,\n",
       " <selenium.webdriver.remote.webelement.WebElement (session=\"dad919ca63a409cb2bf8415c7b3f938c\", element=\"8f4987c4-54d2-448a-9ef1-d74d6ea3173b\")>,\n",
       " <selenium.webdriver.remote.webelement.WebElement (session=\"dad919ca63a409cb2bf8415c7b3f938c\", element=\"4fd8eb0f-32ac-4af0-8ecd-77b57d9677f2\")>,\n",
       " <selenium.webdriver.remote.webelement.WebElement (session=\"dad919ca63a409cb2bf8415c7b3f938c\", element=\"db3ed442-778c-4059-b8e6-502b7afc289d\")>,\n",
       " <selenium.webdriver.remote.webelement.WebElement (session=\"dad919ca63a409cb2bf8415c7b3f938c\", element=\"51ab455b-569e-49e6-9463-099ad0c6cb96\")>]"
      ]
     },
     "execution_count": 9,
     "metadata": {},
     "output_type": "execute_result"
    }
   ],
   "source": [
    "#lets extract job title \n",
    "\n",
    "title_tag = driver.find_elements_by_xpath(\"//a[@class = 'title fw500 ellipsis']\")\n",
    "\n",
    "title_tag[0:10]\n",
    "\n"
   ]
  },
  {
   "cell_type": "code",
   "execution_count": 10,
   "id": "c8d23759",
   "metadata": {},
   "outputs": [],
   "source": [
    "#so now we have all the tags in wich there are the job title.\n",
    "\n",
    "#now we extract job title from tags throught looping method\n"
   ]
  },
  {
   "cell_type": "code",
   "execution_count": 11,
   "id": "c2f37b5f",
   "metadata": {},
   "outputs": [
    {
     "data": {
      "text/plain": [
       "['Business Data Analyst',\n",
       " 'EY GDS Data Analyst-Finland based project',\n",
       " 'Business Analyst/Data analyst - Payments Domain',\n",
       " 'Data Analyst - Data and Analytics',\n",
       " 'Data Analyst - Data and Analytics',\n",
       " 'Data Analyst (CSD)',\n",
       " 'Senior Data Analyst',\n",
       " 'Data Analyst - Data Science, 3 To 5 Years',\n",
       " 'Data Analyst / Business Analyst',\n",
       " 'Data Analyst']"
      ]
     },
     "execution_count": 11,
     "metadata": {},
     "output_type": "execute_result"
    }
   ],
   "source": [
    "job_title = []\n",
    "\n",
    "for i in title_tag[0:10]:\n",
    "    job_title.append(i.text)\n",
    "job_title    \n",
    "    \n",
    "   "
   ]
  },
  {
   "cell_type": "code",
   "execution_count": 12,
   "id": "75428d71",
   "metadata": {},
   "outputs": [
    {
     "data": {
      "text/plain": [
       "[<selenium.webdriver.remote.webelement.WebElement (session=\"dad919ca63a409cb2bf8415c7b3f938c\", element=\"55258018-751d-4f29-889c-35e684ac2f52\")>,\n",
       " <selenium.webdriver.remote.webelement.WebElement (session=\"dad919ca63a409cb2bf8415c7b3f938c\", element=\"9d5e6ee5-fb34-4d5e-bc18-b765f6682783\")>,\n",
       " <selenium.webdriver.remote.webelement.WebElement (session=\"dad919ca63a409cb2bf8415c7b3f938c\", element=\"eaac3886-a949-4e12-9b83-8b45bea5e072\")>,\n",
       " <selenium.webdriver.remote.webelement.WebElement (session=\"dad919ca63a409cb2bf8415c7b3f938c\", element=\"5261e9df-2172-4a5f-b46e-81f42c9b904b\")>,\n",
       " <selenium.webdriver.remote.webelement.WebElement (session=\"dad919ca63a409cb2bf8415c7b3f938c\", element=\"6a3f79e8-fcdb-43a0-a9e8-c9627e133fb8\")>,\n",
       " <selenium.webdriver.remote.webelement.WebElement (session=\"dad919ca63a409cb2bf8415c7b3f938c\", element=\"fbaab6cc-4a7b-4e53-b507-e73ea85df6a3\")>,\n",
       " <selenium.webdriver.remote.webelement.WebElement (session=\"dad919ca63a409cb2bf8415c7b3f938c\", element=\"41f6d78f-5a11-4306-b042-209e0c29c999\")>,\n",
       " <selenium.webdriver.remote.webelement.WebElement (session=\"dad919ca63a409cb2bf8415c7b3f938c\", element=\"820a9dbd-8d4b-4ae3-a15b-e18ed3416e00\")>,\n",
       " <selenium.webdriver.remote.webelement.WebElement (session=\"dad919ca63a409cb2bf8415c7b3f938c\", element=\"7c6bd2d6-785a-410f-89ad-a401d1480fd0\")>,\n",
       " <selenium.webdriver.remote.webelement.WebElement (session=\"dad919ca63a409cb2bf8415c7b3f938c\", element=\"56089d9b-b94c-4ef1-a5d0-9fa1f26723bd\")>]"
      ]
     },
     "execution_count": 12,
     "metadata": {},
     "output_type": "execute_result"
    }
   ],
   "source": [
    "#lets find the company name\n",
    "\n",
    "company_tag = driver.find_elements_by_xpath(\"//a[@class = 'subTitle ellipsis fleft']\")\n",
    "company_tag[0:10]"
   ]
  },
  {
   "cell_type": "code",
   "execution_count": 13,
   "id": "d3da6086",
   "metadata": {},
   "outputs": [
    {
     "data": {
      "text/plain": [
       "['NXP Semiconductors',\n",
       " 'EY',\n",
       " 'CGI',\n",
       " 'Intel',\n",
       " 'Intel',\n",
       " 'Siemens',\n",
       " 'Encora',\n",
       " 'Rise Finconnect Private Limited',\n",
       " 'METRO Cash & Carry',\n",
       " 'Cigna TTK']"
      ]
     },
     "execution_count": 13,
     "metadata": {},
     "output_type": "execute_result"
    }
   ],
   "source": [
    "#Now we have extract the text from the tag\n",
    "company_name = []\n",
    "\n",
    "for i in company_tag[0:10]:\n",
    "    company_name.append(i.text)\n",
    "    \n",
    "company_name    "
   ]
  },
  {
   "cell_type": "code",
   "execution_count": 14,
   "id": "9dd544b0",
   "metadata": {},
   "outputs": [
    {
     "data": {
      "text/plain": [
       "[<selenium.webdriver.remote.webelement.WebElement (session=\"dad919ca63a409cb2bf8415c7b3f938c\", element=\"5a41f2f8-1588-4fcb-8ac4-e5dec5b50111\")>,\n",
       " <selenium.webdriver.remote.webelement.WebElement (session=\"dad919ca63a409cb2bf8415c7b3f938c\", element=\"8c791414-70ee-49ae-a6ea-d3c44cc66c43\")>,\n",
       " <selenium.webdriver.remote.webelement.WebElement (session=\"dad919ca63a409cb2bf8415c7b3f938c\", element=\"0080b041-33ef-429c-8c97-e07f91a649da\")>,\n",
       " <selenium.webdriver.remote.webelement.WebElement (session=\"dad919ca63a409cb2bf8415c7b3f938c\", element=\"8153b80b-4d79-457a-aad5-f86324930f3f\")>,\n",
       " <selenium.webdriver.remote.webelement.WebElement (session=\"dad919ca63a409cb2bf8415c7b3f938c\", element=\"5e03cb71-dbca-4231-a190-76722b476319\")>,\n",
       " <selenium.webdriver.remote.webelement.WebElement (session=\"dad919ca63a409cb2bf8415c7b3f938c\", element=\"a34a9fef-0abb-4828-a8ab-c2bc35009a24\")>,\n",
       " <selenium.webdriver.remote.webelement.WebElement (session=\"dad919ca63a409cb2bf8415c7b3f938c\", element=\"f0c9f943-b410-4a7c-aab1-6de927c3561d\")>,\n",
       " <selenium.webdriver.remote.webelement.WebElement (session=\"dad919ca63a409cb2bf8415c7b3f938c\", element=\"8ed80dc4-5ea4-4b3f-b75f-3ced7ed1f866\")>,\n",
       " <selenium.webdriver.remote.webelement.WebElement (session=\"dad919ca63a409cb2bf8415c7b3f938c\", element=\"df31a67c-07dd-4c60-a0de-9d35819b3ed9\")>,\n",
       " <selenium.webdriver.remote.webelement.WebElement (session=\"dad919ca63a409cb2bf8415c7b3f938c\", element=\"05ec121e-3f7c-45df-98b9-aeb637a2b345\")>,\n",
       " <selenium.webdriver.remote.webelement.WebElement (session=\"dad919ca63a409cb2bf8415c7b3f938c\", element=\"17039576-3286-4a3e-b054-11e14417eddb\")>,\n",
       " <selenium.webdriver.remote.webelement.WebElement (session=\"dad919ca63a409cb2bf8415c7b3f938c\", element=\"345642a7-afc0-4901-91ef-fd12f2c36dee\")>,\n",
       " <selenium.webdriver.remote.webelement.WebElement (session=\"dad919ca63a409cb2bf8415c7b3f938c\", element=\"709dd69c-2544-427e-b962-e6ba89edff86\")>,\n",
       " <selenium.webdriver.remote.webelement.WebElement (session=\"dad919ca63a409cb2bf8415c7b3f938c\", element=\"3beb00a6-03bc-496a-9ffb-fa2d6586b245\")>,\n",
       " <selenium.webdriver.remote.webelement.WebElement (session=\"dad919ca63a409cb2bf8415c7b3f938c\", element=\"68aebd39-18ad-4a1f-ad4c-f35ce3f8c0b0\")>,\n",
       " <selenium.webdriver.remote.webelement.WebElement (session=\"dad919ca63a409cb2bf8415c7b3f938c\", element=\"0cd417b7-d4e7-4365-bbe8-c81fd9f6758e\")>,\n",
       " <selenium.webdriver.remote.webelement.WebElement (session=\"dad919ca63a409cb2bf8415c7b3f938c\", element=\"20448a3a-7160-412a-822e-1090a89fa970\")>,\n",
       " <selenium.webdriver.remote.webelement.WebElement (session=\"dad919ca63a409cb2bf8415c7b3f938c\", element=\"ba855d38-8642-4d33-ab5c-50f360c96308\")>,\n",
       " <selenium.webdriver.remote.webelement.WebElement (session=\"dad919ca63a409cb2bf8415c7b3f938c\", element=\"d787dcfb-a00d-4eab-8d80-fef966f605e6\")>,\n",
       " <selenium.webdriver.remote.webelement.WebElement (session=\"dad919ca63a409cb2bf8415c7b3f938c\", element=\"dcd93cea-8bfe-4c45-8417-182abcf5251f\")>]"
      ]
     },
     "execution_count": 14,
     "metadata": {},
     "output_type": "execute_result"
    }
   ],
   "source": [
    "#lets extract years for the experience_tag\n",
    "\n",
    "experience_tag = driver.find_elements_by_xpath(\"//li[@class='fleft grey-text br2 placeHolderLi experience']/span\")\n",
    "experience_tag\n",
    "\n"
   ]
  },
  {
   "cell_type": "code",
   "execution_count": 15,
   "id": "e119fa70",
   "metadata": {
    "scrolled": true
   },
   "outputs": [
    {
     "data": {
      "text/plain": [
       "['2-5 Yrs',\n",
       " '0-1 Yrs',\n",
       " '4-8 Yrs',\n",
       " '3-6 Yrs',\n",
       " '3-6 Yrs',\n",
       " '2-6 Yrs',\n",
       " '5-10 Yrs',\n",
       " '2-6 Yrs',\n",
       " '3-8 Yrs',\n",
       " '2-4 Yrs']"
      ]
     },
     "execution_count": 15,
     "metadata": {},
     "output_type": "execute_result"
    }
   ],
   "source": [
    "#let extract text from tags\n",
    "experience_required = []\n",
    "\n",
    "for i in experience_tag[0:10]:\n",
    "    experience_required.append(i.text[0:10])\n",
    "experience_required    \n",
    "    "
   ]
  },
  {
   "cell_type": "code",
   "execution_count": 16,
   "id": "d3dd7847",
   "metadata": {},
   "outputs": [
    {
     "data": {
      "text/plain": [
       "[<selenium.webdriver.remote.webelement.WebElement (session=\"dad919ca63a409cb2bf8415c7b3f938c\", element=\"416e01a0-6b8e-4b54-9f74-e1a53d2a5c0c\")>,\n",
       " <selenium.webdriver.remote.webelement.WebElement (session=\"dad919ca63a409cb2bf8415c7b3f938c\", element=\"4e0651e5-80f9-4d3a-9dfd-ec749c4aa268\")>,\n",
       " <selenium.webdriver.remote.webelement.WebElement (session=\"dad919ca63a409cb2bf8415c7b3f938c\", element=\"18ff5f94-906d-4e4f-b7c1-677b408773bd\")>,\n",
       " <selenium.webdriver.remote.webelement.WebElement (session=\"dad919ca63a409cb2bf8415c7b3f938c\", element=\"7eafc5d3-0498-49c6-b120-de89a9a02179\")>,\n",
       " <selenium.webdriver.remote.webelement.WebElement (session=\"dad919ca63a409cb2bf8415c7b3f938c\", element=\"f4d3a9b9-3604-4651-9528-8c7e84eaa7a4\")>,\n",
       " <selenium.webdriver.remote.webelement.WebElement (session=\"dad919ca63a409cb2bf8415c7b3f938c\", element=\"9d102c21-36c3-40da-9fc3-716a5fefd20b\")>,\n",
       " <selenium.webdriver.remote.webelement.WebElement (session=\"dad919ca63a409cb2bf8415c7b3f938c\", element=\"f352af66-077f-4236-95f9-ea8305a54f71\")>,\n",
       " <selenium.webdriver.remote.webelement.WebElement (session=\"dad919ca63a409cb2bf8415c7b3f938c\", element=\"2187f333-7de4-4b66-a298-87928d498c2c\")>,\n",
       " <selenium.webdriver.remote.webelement.WebElement (session=\"dad919ca63a409cb2bf8415c7b3f938c\", element=\"da065792-3ef8-43a0-a47a-371d4ce0b9ad\")>,\n",
       " <selenium.webdriver.remote.webelement.WebElement (session=\"dad919ca63a409cb2bf8415c7b3f938c\", element=\"fed64dca-6954-43ba-8da4-4b6b5cdef171\")>]"
      ]
     },
     "execution_count": 16,
     "metadata": {},
     "output_type": "execute_result"
    }
   ],
   "source": [
    "#lets extract the job location tag\n",
    "\n",
    "location_tag = driver.find_elements_by_xpath(\"//li[@class='fleft grey-text br2 placeHolderLi location']\")\n",
    "\n",
    "location_tag[0:10]"
   ]
  },
  {
   "cell_type": "code",
   "execution_count": 17,
   "id": "6a879c86",
   "metadata": {
    "scrolled": true
   },
   "outputs": [
    {
     "data": {
      "text/plain": [
       "['Bangalore/Bengaluru',\n",
       " 'Bangalore/Bengaluru',\n",
       " 'Hyderabad/Secunderabad, Pune, Chennai, Bangalore/Bengaluru',\n",
       " 'Bangalore/Bengaluru',\n",
       " 'Bangalore/Bengaluru',\n",
       " 'Bangalore/Bengaluru',\n",
       " 'Bangalore/Bengaluru',\n",
       " 'Bangalore/Bengaluru',\n",
       " 'Bangalore/Bengaluru',\n",
       " 'Bangalore/Bengaluru']"
      ]
     },
     "execution_count": 17,
     "metadata": {},
     "output_type": "execute_result"
    }
   ],
   "source": [
    "job_location = []\n",
    "\n",
    "for i in location_tag[0:10]:\n",
    "    job_location.append(i.text)    \n",
    "    \n",
    "job_location    "
   ]
  },
  {
   "cell_type": "code",
   "execution_count": 18,
   "id": "75567edd",
   "metadata": {},
   "outputs": [
    {
     "name": "stdout",
     "output_type": "stream",
     "text": [
      "10 10 10 10\n"
     ]
    }
   ],
   "source": [
    "print(len(job_title),len(company_name),len(experience_required),len(job_location))\n"
   ]
  },
  {
   "cell_type": "code",
   "execution_count": 19,
   "id": "819ff7de",
   "metadata": {
    "scrolled": true
   },
   "outputs": [
    {
     "data": {
      "text/html": [
       "<div>\n",
       "<style scoped>\n",
       "    .dataframe tbody tr th:only-of-type {\n",
       "        vertical-align: middle;\n",
       "    }\n",
       "\n",
       "    .dataframe tbody tr th {\n",
       "        vertical-align: top;\n",
       "    }\n",
       "\n",
       "    .dataframe thead th {\n",
       "        text-align: right;\n",
       "    }\n",
       "</style>\n",
       "<table border=\"1\" class=\"dataframe\">\n",
       "  <thead>\n",
       "    <tr style=\"text-align: right;\">\n",
       "      <th></th>\n",
       "      <th>job_title</th>\n",
       "      <th>company_name</th>\n",
       "      <th>experience_required</th>\n",
       "      <th>job_location</th>\n",
       "    </tr>\n",
       "  </thead>\n",
       "  <tbody>\n",
       "    <tr>\n",
       "      <th>0</th>\n",
       "      <td>Business Data Analyst</td>\n",
       "      <td>NXP Semiconductors</td>\n",
       "      <td>2-5 Yrs</td>\n",
       "      <td>Bangalore/Bengaluru</td>\n",
       "    </tr>\n",
       "    <tr>\n",
       "      <th>1</th>\n",
       "      <td>EY GDS Data Analyst-Finland based project</td>\n",
       "      <td>EY</td>\n",
       "      <td>0-1 Yrs</td>\n",
       "      <td>Bangalore/Bengaluru</td>\n",
       "    </tr>\n",
       "    <tr>\n",
       "      <th>2</th>\n",
       "      <td>Business Analyst/Data analyst - Payments Domain</td>\n",
       "      <td>CGI</td>\n",
       "      <td>4-8 Yrs</td>\n",
       "      <td>Hyderabad/Secunderabad, Pune, Chennai, Bangalo...</td>\n",
       "    </tr>\n",
       "    <tr>\n",
       "      <th>3</th>\n",
       "      <td>Data Analyst - Data and Analytics</td>\n",
       "      <td>Intel</td>\n",
       "      <td>3-6 Yrs</td>\n",
       "      <td>Bangalore/Bengaluru</td>\n",
       "    </tr>\n",
       "    <tr>\n",
       "      <th>4</th>\n",
       "      <td>Data Analyst - Data and Analytics</td>\n",
       "      <td>Intel</td>\n",
       "      <td>3-6 Yrs</td>\n",
       "      <td>Bangalore/Bengaluru</td>\n",
       "    </tr>\n",
       "    <tr>\n",
       "      <th>5</th>\n",
       "      <td>Data Analyst (CSD)</td>\n",
       "      <td>Siemens</td>\n",
       "      <td>2-6 Yrs</td>\n",
       "      <td>Bangalore/Bengaluru</td>\n",
       "    </tr>\n",
       "    <tr>\n",
       "      <th>6</th>\n",
       "      <td>Senior Data Analyst</td>\n",
       "      <td>Encora</td>\n",
       "      <td>5-10 Yrs</td>\n",
       "      <td>Bangalore/Bengaluru</td>\n",
       "    </tr>\n",
       "    <tr>\n",
       "      <th>7</th>\n",
       "      <td>Data Analyst - Data Science, 3 To 5 Years</td>\n",
       "      <td>Rise Finconnect Private Limited</td>\n",
       "      <td>2-6 Yrs</td>\n",
       "      <td>Bangalore/Bengaluru</td>\n",
       "    </tr>\n",
       "    <tr>\n",
       "      <th>8</th>\n",
       "      <td>Data Analyst / Business Analyst</td>\n",
       "      <td>METRO Cash &amp; Carry</td>\n",
       "      <td>3-8 Yrs</td>\n",
       "      <td>Bangalore/Bengaluru</td>\n",
       "    </tr>\n",
       "    <tr>\n",
       "      <th>9</th>\n",
       "      <td>Data Analyst</td>\n",
       "      <td>Cigna TTK</td>\n",
       "      <td>2-4 Yrs</td>\n",
       "      <td>Bangalore/Bengaluru</td>\n",
       "    </tr>\n",
       "  </tbody>\n",
       "</table>\n",
       "</div>"
      ],
      "text/plain": [
       "                                         job_title  \\\n",
       "0                            Business Data Analyst   \n",
       "1        EY GDS Data Analyst-Finland based project   \n",
       "2  Business Analyst/Data analyst - Payments Domain   \n",
       "3                Data Analyst - Data and Analytics   \n",
       "4                Data Analyst - Data and Analytics   \n",
       "5                               Data Analyst (CSD)   \n",
       "6                              Senior Data Analyst   \n",
       "7        Data Analyst - Data Science, 3 To 5 Years   \n",
       "8                  Data Analyst / Business Analyst   \n",
       "9                                     Data Analyst   \n",
       "\n",
       "                      company_name experience_required  \\\n",
       "0               NXP Semiconductors             2-5 Yrs   \n",
       "1                               EY             0-1 Yrs   \n",
       "2                              CGI             4-8 Yrs   \n",
       "3                            Intel             3-6 Yrs   \n",
       "4                            Intel             3-6 Yrs   \n",
       "5                          Siemens             2-6 Yrs   \n",
       "6                           Encora            5-10 Yrs   \n",
       "7  Rise Finconnect Private Limited             2-6 Yrs   \n",
       "8               METRO Cash & Carry             3-8 Yrs   \n",
       "9                        Cigna TTK             2-4 Yrs   \n",
       "\n",
       "                                        job_location  \n",
       "0                                Bangalore/Bengaluru  \n",
       "1                                Bangalore/Bengaluru  \n",
       "2  Hyderabad/Secunderabad, Pune, Chennai, Bangalo...  \n",
       "3                                Bangalore/Bengaluru  \n",
       "4                                Bangalore/Bengaluru  \n",
       "5                                Bangalore/Bengaluru  \n",
       "6                                Bangalore/Bengaluru  \n",
       "7                                Bangalore/Bengaluru  \n",
       "8                                Bangalore/Bengaluru  \n",
       "9                                Bangalore/Bengaluru  "
      ]
     },
     "execution_count": 19,
     "metadata": {},
     "output_type": "execute_result"
    }
   ],
   "source": [
    "df = pd.DataFrame({'job_title':job_title,'company_name':company_name,'experience_required':experience_required,'job_location':job_location})\n",
    "df"
   ]
  },
  {
   "cell_type": "code",
   "execution_count": null,
   "id": "ba222390",
   "metadata": {},
   "outputs": [],
   "source": []
  }
 ],
 "metadata": {
  "kernelspec": {
   "display_name": "Python 3 (ipykernel)",
   "language": "python",
   "name": "python3"
  },
  "language_info": {
   "codemirror_mode": {
    "name": "ipython",
    "version": 3
   },
   "file_extension": ".py",
   "mimetype": "text/x-python",
   "name": "python",
   "nbconvert_exporter": "python",
   "pygments_lexer": "ipython3",
   "version": "3.9.7"
  }
 },
 "nbformat": 4,
 "nbformat_minor": 5
}
