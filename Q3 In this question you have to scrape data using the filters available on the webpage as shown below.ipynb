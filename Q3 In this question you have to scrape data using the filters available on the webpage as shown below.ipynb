{
 "cells": [
  {
   "cell_type": "code",
   "execution_count": 1,
   "id": "29bf4d98",
   "metadata": {},
   "outputs": [
    {
     "name": "stdout",
     "output_type": "stream",
     "text": [
      "Requirement already satisfied: selenium in c:\\programdata\\anaconda3\\lib\\site-packages (4.2.0)\n",
      "Requirement already satisfied: trio-websocket~=0.9 in c:\\programdata\\anaconda3\\lib\\site-packages (from selenium) (0.9.2)\n",
      "Requirement already satisfied: trio~=0.17 in c:\\programdata\\anaconda3\\lib\\site-packages (from selenium) (0.20.0)\n",
      "Requirement already satisfied: urllib3[secure,socks]~=1.26 in c:\\programdata\\anaconda3\\lib\\site-packages (from selenium) (1.26.7)\n",
      "Requirement already satisfied: async-generator>=1.9 in c:\\programdata\\anaconda3\\lib\\site-packages (from trio~=0.17->selenium) (1.10)\n",
      "Requirement already satisfied: outcome in c:\\programdata\\anaconda3\\lib\\site-packages (from trio~=0.17->selenium) (1.1.0)\n",
      "Requirement already satisfied: attrs>=19.2.0 in c:\\programdata\\anaconda3\\lib\\site-packages (from trio~=0.17->selenium) (21.2.0)\n",
      "Requirement already satisfied: sniffio in c:\\programdata\\anaconda3\\lib\\site-packages (from trio~=0.17->selenium) (1.2.0)\n",
      "Requirement already satisfied: cffi>=1.14 in c:\\programdata\\anaconda3\\lib\\site-packages (from trio~=0.17->selenium) (1.14.6)\n",
      "Requirement already satisfied: sortedcontainers in c:\\programdata\\anaconda3\\lib\\site-packages (from trio~=0.17->selenium) (2.4.0)\n",
      "Requirement already satisfied: idna in c:\\programdata\\anaconda3\\lib\\site-packages (from trio~=0.17->selenium) (3.2)\n",
      "Requirement already satisfied: pycparser in c:\\programdata\\anaconda3\\lib\\site-packages (from cffi>=1.14->trio~=0.17->selenium) (2.20)\n",
      "Requirement already satisfied: wsproto>=0.14 in c:\\programdata\\anaconda3\\lib\\site-packages (from trio-websocket~=0.9->selenium) (1.1.0)\n",
      "Requirement already satisfied: PySocks!=1.5.7,<2.0,>=1.5.6 in c:\\programdata\\anaconda3\\lib\\site-packages (from urllib3[secure,socks]~=1.26->selenium) (1.7.1)\n",
      "Requirement already satisfied: pyOpenSSL>=0.14 in c:\\programdata\\anaconda3\\lib\\site-packages (from urllib3[secure,socks]~=1.26->selenium) (21.0.0)\n",
      "Requirement already satisfied: cryptography>=1.3.4 in c:\\programdata\\anaconda3\\lib\\site-packages (from urllib3[secure,socks]~=1.26->selenium) (3.4.8)\n",
      "Requirement already satisfied: certifi in c:\\programdata\\anaconda3\\lib\\site-packages (from urllib3[secure,socks]~=1.26->selenium) (2021.10.8)\n",
      "Requirement already satisfied: six>=1.5.2 in c:\\programdata\\anaconda3\\lib\\site-packages (from pyOpenSSL>=0.14->urllib3[secure,socks]~=1.26->selenium) (1.16.0)\n",
      "Requirement already satisfied: h11<1,>=0.9.0 in c:\\programdata\\anaconda3\\lib\\site-packages (from wsproto>=0.14->trio-websocket~=0.9->selenium) (0.13.0)\n"
     ]
    }
   ],
   "source": [
    "#First install the Selenium\n",
    "\n",
    "!pip install selenium"
   ]
  },
  {
   "cell_type": "code",
   "execution_count": 2,
   "id": "3318af7b",
   "metadata": {},
   "outputs": [],
   "source": [
    "#import all required libraries \n",
    "import selenium\n",
    "import pandas as pd\n",
    "from selenium import webdriver\n",
    "import warnings\n",
    "warnings.filterwarnings('ignore')\n",
    "import time\n",
    "from selenium.webdriver.common.keys import Keys"
   ]
  },
  {
   "cell_type": "markdown",
   "id": "40479a2c",
   "metadata": {},
   "source": [
    "# Q3: In this question you have to scrape data using the filters available on the webpage as shown below"
   ]
  },
  {
   "cell_type": "markdown",
   "id": "7d26b578",
   "metadata": {},
   "source": [
    "You have to use the location and salary filter.\n",
    "You have to scrape data for “Data Scientist” designation for first 10 job results.\n",
    "You have to scrape the job-title, job-location, company name, experience required. \n",
    "The location filter to be used is “Delhi/NCR”. The salary filter to be used is “3-6” lakhs\n",
    "The task will be done as shown in the below steps:\n",
    "1. first get the webpage https://www.naukri.com/\n",
    "2. Enter “Data Scientist” in “Skill, Designations, and Companies” field.\n",
    "3. Then click the search button.\n",
    "4. Then apply the location filter and salary filter by checking the respective boxes\n",
    "5. Then scrape the data for the first 10 jobs results you get.\n",
    "6. Finally create a dataframe of the scraped data.\n"
   ]
  },
  {
   "cell_type": "code",
   "execution_count": 3,
   "id": "546ddeef",
   "metadata": {},
   "outputs": [],
   "source": [
    "#lets connect with webdriver\n",
    "\n",
    "driver = webdriver.Chrome('chromedriver.exe')"
   ]
  },
  {
   "cell_type": "code",
   "execution_count": 4,
   "id": "9da752c5",
   "metadata": {},
   "outputs": [],
   "source": [
    "#onpening the naukri.com website on automated chrome window\n",
    "driver.get('https://www.naukri.com/')\n"
   ]
  },
  {
   "cell_type": "code",
   "execution_count": 5,
   "id": "405b4987",
   "metadata": {},
   "outputs": [],
   "source": [
    "#Finding element for job search bar\n",
    "\n",
    "search_field_for_designation = driver.find_element_by_class_name('suggestor-input ')\n",
    "search_field_for_designation.send_keys('data scientist')"
   ]
  },
  {
   "cell_type": "code",
   "execution_count": 6,
   "id": "739e0397",
   "metadata": {},
   "outputs": [],
   "source": [
    "##Clicking on search bar button\n",
    "\n",
    "click_button =driver.find_element_by_xpath('/html/body/div/div[2]/div[3]/div/div/div[6]')\n",
    "click_button.click()"
   ]
  },
  {
   "cell_type": "code",
   "execution_count": 7,
   "id": "e44bd190",
   "metadata": {},
   "outputs": [],
   "source": [
    "#do the tick mark on location filter bar\n",
    "\n",
    "click_location_button =driver.find_element_by_xpath('/html/body/div[1]/div[3]/div[2]/section[1]/div[2]/div[5]/div[2]/div[3]/label/i')\n",
    "click_location_button.click()\n",
    "time.sleep(3)"
   ]
  },
  {
   "cell_type": "code",
   "execution_count": 8,
   "id": "dc48af3a",
   "metadata": {},
   "outputs": [],
   "source": [
    "#do tick mark on salary filter bar\n",
    "\n",
    "click_salary_button =driver.find_element_by_xpath('/html/body/div[1]/div[3]/div[2]/section[1]/div[2]/div[6]/div[2]/div[2]/label/i')\n",
    "click_salary_button.click()\n",
    "time.sleep(3)"
   ]
  },
  {
   "cell_type": "code",
   "execution_count": 9,
   "id": "ed09f8dd",
   "metadata": {},
   "outputs": [
    {
     "data": {
      "text/plain": [
       "[<selenium.webdriver.remote.webelement.WebElement (session=\"af22fc25a130554b57c75511dfbf0cd7\", element=\"c48ffc3d-efe2-479d-9555-96d704430a8f\")>,\n",
       " <selenium.webdriver.remote.webelement.WebElement (session=\"af22fc25a130554b57c75511dfbf0cd7\", element=\"d27507d9-cdbf-4680-a264-c546232791a5\")>,\n",
       " <selenium.webdriver.remote.webelement.WebElement (session=\"af22fc25a130554b57c75511dfbf0cd7\", element=\"c4bbbe62-0b2e-45f1-a6a3-f2a38d4225f6\")>,\n",
       " <selenium.webdriver.remote.webelement.WebElement (session=\"af22fc25a130554b57c75511dfbf0cd7\", element=\"96995b35-f21c-4049-bc56-2305a1a856c0\")>,\n",
       " <selenium.webdriver.remote.webelement.WebElement (session=\"af22fc25a130554b57c75511dfbf0cd7\", element=\"9287ab69-362d-40c3-855a-966106e2345a\")>,\n",
       " <selenium.webdriver.remote.webelement.WebElement (session=\"af22fc25a130554b57c75511dfbf0cd7\", element=\"d90d025b-99d1-4e99-bdf0-619c36feea68\")>,\n",
       " <selenium.webdriver.remote.webelement.WebElement (session=\"af22fc25a130554b57c75511dfbf0cd7\", element=\"35dcc76e-b842-44f2-b6bb-41830e7c2b53\")>,\n",
       " <selenium.webdriver.remote.webelement.WebElement (session=\"af22fc25a130554b57c75511dfbf0cd7\", element=\"8fc8d4ec-b6c3-4417-a11b-96d5197eafbc\")>,\n",
       " <selenium.webdriver.remote.webelement.WebElement (session=\"af22fc25a130554b57c75511dfbf0cd7\", element=\"817ce7ad-4cb7-4d4a-bf32-f6fac45d7042\")>,\n",
       " <selenium.webdriver.remote.webelement.WebElement (session=\"af22fc25a130554b57c75511dfbf0cd7\", element=\"62628299-dae6-4044-a50b-16ddbd9568bd\")>]"
      ]
     },
     "execution_count": 9,
     "metadata": {},
     "output_type": "execute_result"
    }
   ],
   "source": [
    "#lets extract job title \n",
    "\n",
    "title_tag = driver.find_elements_by_xpath(\"//a[@class='title fw500 ellipsis']\")\n",
    "\n",
    "title_tag[0:10]\n"
   ]
  },
  {
   "cell_type": "code",
   "execution_count": 10,
   "id": "6e16388c",
   "metadata": {},
   "outputs": [],
   "source": [
    "#so now we have all the tags in wich there are the job title.\n",
    "\n",
    "#now we extract job title from tags throught looping method\n"
   ]
  },
  {
   "cell_type": "code",
   "execution_count": 11,
   "id": "e060520c",
   "metadata": {
    "scrolled": false
   },
   "outputs": [
    {
     "data": {
      "text/plain": [
       "['Job Opening with Wipro For Data Scientist position',\n",
       " 'Data Scientist - Machine learning AI',\n",
       " 'Data Scientist -Machine Learning with Python',\n",
       " 'Data Scientist',\n",
       " 'Data Scientist - MIND Infotech',\n",
       " 'Data Scientist - MIND Infotech',\n",
       " 'Data Scientist - Predictive Analytics',\n",
       " 'Data Scientist - Internet Jobs - II',\n",
       " 'Machine Learning Engineer | Data Engineer | Data Scientist',\n",
       " 'Hiring || Data Scientist || North Delhi || 5.5 days working']"
      ]
     },
     "execution_count": 11,
     "metadata": {},
     "output_type": "execute_result"
    }
   ],
   "source": [
    "job_title = []\n",
    "\n",
    "for i in title_tag[0:10]:\n",
    "    job_title.append(i.text)\n",
    "job_title    \n",
    "    \n",
    "   "
   ]
  },
  {
   "cell_type": "code",
   "execution_count": 12,
   "id": "7b76c313",
   "metadata": {},
   "outputs": [
    {
     "data": {
      "text/plain": [
       "[<selenium.webdriver.remote.webelement.WebElement (session=\"af22fc25a130554b57c75511dfbf0cd7\", element=\"acde5ae3-48d8-47b0-b57b-cebf9b4bde5f\")>,\n",
       " <selenium.webdriver.remote.webelement.WebElement (session=\"af22fc25a130554b57c75511dfbf0cd7\", element=\"cdbac093-44db-40d3-a153-dc8779d0465c\")>,\n",
       " <selenium.webdriver.remote.webelement.WebElement (session=\"af22fc25a130554b57c75511dfbf0cd7\", element=\"48b3e9e4-1fbf-43fe-9792-cf45c9c9e5b5\")>,\n",
       " <selenium.webdriver.remote.webelement.WebElement (session=\"af22fc25a130554b57c75511dfbf0cd7\", element=\"8432c960-c5b2-4663-8965-2849c5a6d587\")>,\n",
       " <selenium.webdriver.remote.webelement.WebElement (session=\"af22fc25a130554b57c75511dfbf0cd7\", element=\"cb8767fa-a628-4ff7-9800-89543b01a210\")>,\n",
       " <selenium.webdriver.remote.webelement.WebElement (session=\"af22fc25a130554b57c75511dfbf0cd7\", element=\"1eee1911-542f-4a0b-b1e2-e6a63aba9904\")>,\n",
       " <selenium.webdriver.remote.webelement.WebElement (session=\"af22fc25a130554b57c75511dfbf0cd7\", element=\"686f6493-1c19-44dc-a3e2-e2ec53d2fa50\")>,\n",
       " <selenium.webdriver.remote.webelement.WebElement (session=\"af22fc25a130554b57c75511dfbf0cd7\", element=\"c7a48cc1-e9fd-4e6d-990f-ef0c1c457836\")>,\n",
       " <selenium.webdriver.remote.webelement.WebElement (session=\"af22fc25a130554b57c75511dfbf0cd7\", element=\"f674a092-73df-4505-9ce1-32a2ffaa2a20\")>,\n",
       " <selenium.webdriver.remote.webelement.WebElement (session=\"af22fc25a130554b57c75511dfbf0cd7\", element=\"9630b407-573d-4225-9050-caf20d8edafd\")>]"
      ]
     },
     "execution_count": 12,
     "metadata": {},
     "output_type": "execute_result"
    }
   ],
   "source": [
    "#lets find the company name\n",
    "\n",
    "company_tag = driver.find_elements_by_xpath(\"//a[@class='subTitle ellipsis fleft']\")\n",
    "company_tag[0:10]"
   ]
  },
  {
   "cell_type": "code",
   "execution_count": 13,
   "id": "6efeeb28",
   "metadata": {},
   "outputs": [
    {
     "data": {
      "text/plain": [
       "['Wipro',\n",
       " 'Teq Analytics',\n",
       " 'Genpact',\n",
       " 'SS Supply Chain Solutions Pvt. Ltd. (3SC)',\n",
       " 'MOTHERSONSUMI INFOTECH & DESIGNS LIMITED',\n",
       " 'MOTHERSONSUMI INFOTECH & DESIGNS LIMITED',\n",
       " 'Confidential',\n",
       " 'Jobs Territory',\n",
       " 'Tidyquant (OPC) Private Limited',\n",
       " 'Shriram Automall India Limited']"
      ]
     },
     "execution_count": 13,
     "metadata": {},
     "output_type": "execute_result"
    }
   ],
   "source": [
    "#Now we have extract the text from the tag\n",
    "company_name = []\n",
    "\n",
    "for i in company_tag[0:10]:\n",
    "    company_name.append(i.text)\n",
    "    \n",
    "company_name    "
   ]
  },
  {
   "cell_type": "code",
   "execution_count": 14,
   "id": "db95b24c",
   "metadata": {},
   "outputs": [
    {
     "data": {
      "text/plain": [
       "[<selenium.webdriver.remote.webelement.WebElement (session=\"af22fc25a130554b57c75511dfbf0cd7\", element=\"47e15f62-e93e-4856-8d39-ae84cb4f1f74\")>,\n",
       " <selenium.webdriver.remote.webelement.WebElement (session=\"af22fc25a130554b57c75511dfbf0cd7\", element=\"3b108855-7f90-4964-a896-df5f632caeb5\")>,\n",
       " <selenium.webdriver.remote.webelement.WebElement (session=\"af22fc25a130554b57c75511dfbf0cd7\", element=\"06cc0346-4f3a-482e-8bad-b0ac7b7187e5\")>,\n",
       " <selenium.webdriver.remote.webelement.WebElement (session=\"af22fc25a130554b57c75511dfbf0cd7\", element=\"35aadf1b-58a0-4223-a6e9-23ad13e9f4ab\")>,\n",
       " <selenium.webdriver.remote.webelement.WebElement (session=\"af22fc25a130554b57c75511dfbf0cd7\", element=\"f56d3866-a6b9-4d77-aa91-67dfb45cc87a\")>,\n",
       " <selenium.webdriver.remote.webelement.WebElement (session=\"af22fc25a130554b57c75511dfbf0cd7\", element=\"f9986a73-c2f6-4b21-97d5-6bd5773cb828\")>,\n",
       " <selenium.webdriver.remote.webelement.WebElement (session=\"af22fc25a130554b57c75511dfbf0cd7\", element=\"adc5dc3e-6507-4358-8969-52f2c98a7df5\")>,\n",
       " <selenium.webdriver.remote.webelement.WebElement (session=\"af22fc25a130554b57c75511dfbf0cd7\", element=\"98ebd2dd-dfd8-40f4-a984-a3b10ba20b1e\")>,\n",
       " <selenium.webdriver.remote.webelement.WebElement (session=\"af22fc25a130554b57c75511dfbf0cd7\", element=\"dddd8865-dff1-47d1-a458-93ddc2ef0cf6\")>,\n",
       " <selenium.webdriver.remote.webelement.WebElement (session=\"af22fc25a130554b57c75511dfbf0cd7\", element=\"f776f8e3-46ef-495d-9ca6-40956856710a\")>]"
      ]
     },
     "execution_count": 14,
     "metadata": {},
     "output_type": "execute_result"
    }
   ],
   "source": [
    "#lets extract years for the experience_tag\n",
    "\n",
    "experience_tag = driver.find_elements_by_xpath(\"//li[@class='fleft grey-text br2 placeHolderLi experience']/span\")\n",
    "experience_tag[0:10]\n",
    "\n"
   ]
  },
  {
   "cell_type": "code",
   "execution_count": 15,
   "id": "e119fa70",
   "metadata": {
    "scrolled": true
   },
   "outputs": [
    {
     "data": {
      "text/plain": [
       "['2-7 Yrs',\n",
       " '3-8 Yrs',\n",
       " '1-4 Yrs',\n",
       " '2-5 Yrs',\n",
       " '4-8 Yrs',\n",
       " '4-8 Yrs',\n",
       " '1-6 Yrs',\n",
       " '3-6 Yrs',\n",
       " '1-3 Yrs',\n",
       " '4-9 Yrs']"
      ]
     },
     "execution_count": 15,
     "metadata": {},
     "output_type": "execute_result"
    }
   ],
   "source": [
    "#let extract text from tags\n",
    "experience_required = []\n",
    "\n",
    "for i in experience_tag[0:10]:\n",
    "    experience_required.append(i.text[0:10])\n",
    "experience_required    \n",
    "    "
   ]
  },
  {
   "cell_type": "code",
   "execution_count": 16,
   "id": "d3dd7847",
   "metadata": {},
   "outputs": [
    {
     "data": {
      "text/plain": [
       "[<selenium.webdriver.remote.webelement.WebElement (session=\"af22fc25a130554b57c75511dfbf0cd7\", element=\"2cf09f49-7ca2-4831-8694-5a229007fb31\")>,\n",
       " <selenium.webdriver.remote.webelement.WebElement (session=\"af22fc25a130554b57c75511dfbf0cd7\", element=\"f168b2a5-9044-48cc-8ab6-76951e9cd9c1\")>,\n",
       " <selenium.webdriver.remote.webelement.WebElement (session=\"af22fc25a130554b57c75511dfbf0cd7\", element=\"7b8d57cb-c6d6-4878-9e21-def56245b2f6\")>,\n",
       " <selenium.webdriver.remote.webelement.WebElement (session=\"af22fc25a130554b57c75511dfbf0cd7\", element=\"803b0867-c855-4df1-9f8a-2f59cc6a43e3\")>,\n",
       " <selenium.webdriver.remote.webelement.WebElement (session=\"af22fc25a130554b57c75511dfbf0cd7\", element=\"eef2ecef-95ea-4954-b441-2ba1d92d2a5c\")>,\n",
       " <selenium.webdriver.remote.webelement.WebElement (session=\"af22fc25a130554b57c75511dfbf0cd7\", element=\"9416fbd3-8325-4ac5-bd68-d1c33802b48e\")>,\n",
       " <selenium.webdriver.remote.webelement.WebElement (session=\"af22fc25a130554b57c75511dfbf0cd7\", element=\"905dbd5b-9311-4048-ab0e-c9b446253393\")>,\n",
       " <selenium.webdriver.remote.webelement.WebElement (session=\"af22fc25a130554b57c75511dfbf0cd7\", element=\"f06a814f-8c6a-4349-9a22-085d4ad2671e\")>,\n",
       " <selenium.webdriver.remote.webelement.WebElement (session=\"af22fc25a130554b57c75511dfbf0cd7\", element=\"800a9920-abd0-4001-b351-80afd4981562\")>,\n",
       " <selenium.webdriver.remote.webelement.WebElement (session=\"af22fc25a130554b57c75511dfbf0cd7\", element=\"c05b67fe-ee94-424a-a690-de5d97e92aac\")>]"
      ]
     },
     "execution_count": 16,
     "metadata": {},
     "output_type": "execute_result"
    }
   ],
   "source": [
    "#lets extract the job location tag\n",
    "\n",
    "location_tag = driver.find_elements_by_xpath(\"//li[@class='fleft grey-text br2 placeHolderLi location']/span\")\n",
    "\n",
    "location_tag[0:10]"
   ]
  },
  {
   "cell_type": "code",
   "execution_count": 17,
   "id": "6a879c86",
   "metadata": {
    "scrolled": true
   },
   "outputs": [
    {
     "data": {
      "text/plain": [
       "['Kolkata, Hyderabad/Secunderabad, Chennai, Bangalore/Bengaluru, Delhi / NCR, Mumbai (All Areas)',\n",
       " 'Bangalore/Bengaluru, Delhi / NCR, Mumbai (All Areas)',\n",
       " '(WFH during Covid)',\n",
       " 'Noida, New Delhi, Gurgaon/Gurugram, Delhi / NCR',\n",
       " '(WFH during Covid)',\n",
       " 'Pune, Gurgaon/Gurugram, Bangalore/Bengaluru',\n",
       " 'Noida',\n",
       " 'Noida',\n",
       " 'Noida, Mumbai, Chandigarh, Hyderabad/Secunderabad, Pune, Chennai, Gurgaon/Gurugram, Coimbatore, Bangalore/Bengaluru',\n",
       " 'Bangalore/Bengaluru, Delhi / NCR, Mumbai (All Areas)']"
      ]
     },
     "execution_count": 17,
     "metadata": {},
     "output_type": "execute_result"
    }
   ],
   "source": [
    "job_location = []\n",
    "\n",
    "for i in location_tag[0:10]:\n",
    "    job_location.append(i.text)    \n",
    "    \n",
    "job_location    "
   ]
  },
  {
   "cell_type": "code",
   "execution_count": 18,
   "id": "75567edd",
   "metadata": {},
   "outputs": [
    {
     "name": "stdout",
     "output_type": "stream",
     "text": [
      "10 10 10 10\n"
     ]
    }
   ],
   "source": [
    "print(len(job_title),len(company_name),len(experience_required),len(job_location))\n"
   ]
  },
  {
   "cell_type": "code",
   "execution_count": 19,
   "id": "819ff7de",
   "metadata": {
    "scrolled": true
   },
   "outputs": [
    {
     "data": {
      "text/html": [
       "<div>\n",
       "<style scoped>\n",
       "    .dataframe tbody tr th:only-of-type {\n",
       "        vertical-align: middle;\n",
       "    }\n",
       "\n",
       "    .dataframe tbody tr th {\n",
       "        vertical-align: top;\n",
       "    }\n",
       "\n",
       "    .dataframe thead th {\n",
       "        text-align: right;\n",
       "    }\n",
       "</style>\n",
       "<table border=\"1\" class=\"dataframe\">\n",
       "  <thead>\n",
       "    <tr style=\"text-align: right;\">\n",
       "      <th></th>\n",
       "      <th>job_title</th>\n",
       "      <th>company_name</th>\n",
       "      <th>experience_required</th>\n",
       "      <th>job_location</th>\n",
       "    </tr>\n",
       "  </thead>\n",
       "  <tbody>\n",
       "    <tr>\n",
       "      <th>0</th>\n",
       "      <td>Job Opening with Wipro For Data Scientist posi...</td>\n",
       "      <td>Wipro</td>\n",
       "      <td>2-7 Yrs</td>\n",
       "      <td>Kolkata, Hyderabad/Secunderabad, Chennai, Bang...</td>\n",
       "    </tr>\n",
       "    <tr>\n",
       "      <th>1</th>\n",
       "      <td>Data Scientist - Machine learning AI</td>\n",
       "      <td>Teq Analytics</td>\n",
       "      <td>3-8 Yrs</td>\n",
       "      <td>Bangalore/Bengaluru, Delhi / NCR, Mumbai (All ...</td>\n",
       "    </tr>\n",
       "    <tr>\n",
       "      <th>2</th>\n",
       "      <td>Data Scientist -Machine Learning with Python</td>\n",
       "      <td>Genpact</td>\n",
       "      <td>1-4 Yrs</td>\n",
       "      <td>(WFH during Covid)</td>\n",
       "    </tr>\n",
       "    <tr>\n",
       "      <th>3</th>\n",
       "      <td>Data Scientist</td>\n",
       "      <td>SS Supply Chain Solutions Pvt. Ltd. (3SC)</td>\n",
       "      <td>2-5 Yrs</td>\n",
       "      <td>Noida, New Delhi, Gurgaon/Gurugram, Delhi / NCR</td>\n",
       "    </tr>\n",
       "    <tr>\n",
       "      <th>4</th>\n",
       "      <td>Data Scientist - MIND Infotech</td>\n",
       "      <td>MOTHERSONSUMI INFOTECH &amp; DESIGNS LIMITED</td>\n",
       "      <td>4-8 Yrs</td>\n",
       "      <td>(WFH during Covid)</td>\n",
       "    </tr>\n",
       "    <tr>\n",
       "      <th>5</th>\n",
       "      <td>Data Scientist - MIND Infotech</td>\n",
       "      <td>MOTHERSONSUMI INFOTECH &amp; DESIGNS LIMITED</td>\n",
       "      <td>4-8 Yrs</td>\n",
       "      <td>Pune, Gurgaon/Gurugram, Bangalore/Bengaluru</td>\n",
       "    </tr>\n",
       "    <tr>\n",
       "      <th>6</th>\n",
       "      <td>Data Scientist - Predictive Analytics</td>\n",
       "      <td>Confidential</td>\n",
       "      <td>1-6 Yrs</td>\n",
       "      <td>Noida</td>\n",
       "    </tr>\n",
       "    <tr>\n",
       "      <th>7</th>\n",
       "      <td>Data Scientist - Internet Jobs - II</td>\n",
       "      <td>Jobs Territory</td>\n",
       "      <td>3-6 Yrs</td>\n",
       "      <td>Noida</td>\n",
       "    </tr>\n",
       "    <tr>\n",
       "      <th>8</th>\n",
       "      <td>Machine Learning Engineer | Data Engineer | Da...</td>\n",
       "      <td>Tidyquant (OPC) Private Limited</td>\n",
       "      <td>1-3 Yrs</td>\n",
       "      <td>Noida, Mumbai, Chandigarh, Hyderabad/Secundera...</td>\n",
       "    </tr>\n",
       "    <tr>\n",
       "      <th>9</th>\n",
       "      <td>Hiring || Data Scientist || North Delhi || 5.5...</td>\n",
       "      <td>Shriram Automall India Limited</td>\n",
       "      <td>4-9 Yrs</td>\n",
       "      <td>Bangalore/Bengaluru, Delhi / NCR, Mumbai (All ...</td>\n",
       "    </tr>\n",
       "  </tbody>\n",
       "</table>\n",
       "</div>"
      ],
      "text/plain": [
       "                                           job_title  \\\n",
       "0  Job Opening with Wipro For Data Scientist posi...   \n",
       "1               Data Scientist - Machine learning AI   \n",
       "2       Data Scientist -Machine Learning with Python   \n",
       "3                                     Data Scientist   \n",
       "4                     Data Scientist - MIND Infotech   \n",
       "5                     Data Scientist - MIND Infotech   \n",
       "6              Data Scientist - Predictive Analytics   \n",
       "7                Data Scientist - Internet Jobs - II   \n",
       "8  Machine Learning Engineer | Data Engineer | Da...   \n",
       "9  Hiring || Data Scientist || North Delhi || 5.5...   \n",
       "\n",
       "                                company_name experience_required  \\\n",
       "0                                      Wipro             2-7 Yrs   \n",
       "1                              Teq Analytics             3-8 Yrs   \n",
       "2                                    Genpact             1-4 Yrs   \n",
       "3  SS Supply Chain Solutions Pvt. Ltd. (3SC)             2-5 Yrs   \n",
       "4   MOTHERSONSUMI INFOTECH & DESIGNS LIMITED             4-8 Yrs   \n",
       "5   MOTHERSONSUMI INFOTECH & DESIGNS LIMITED             4-8 Yrs   \n",
       "6                               Confidential             1-6 Yrs   \n",
       "7                             Jobs Territory             3-6 Yrs   \n",
       "8            Tidyquant (OPC) Private Limited             1-3 Yrs   \n",
       "9             Shriram Automall India Limited             4-9 Yrs   \n",
       "\n",
       "                                        job_location  \n",
       "0  Kolkata, Hyderabad/Secunderabad, Chennai, Bang...  \n",
       "1  Bangalore/Bengaluru, Delhi / NCR, Mumbai (All ...  \n",
       "2                                 (WFH during Covid)  \n",
       "3    Noida, New Delhi, Gurgaon/Gurugram, Delhi / NCR  \n",
       "4                                 (WFH during Covid)  \n",
       "5        Pune, Gurgaon/Gurugram, Bangalore/Bengaluru  \n",
       "6                                              Noida  \n",
       "7                                              Noida  \n",
       "8  Noida, Mumbai, Chandigarh, Hyderabad/Secundera...  \n",
       "9  Bangalore/Bengaluru, Delhi / NCR, Mumbai (All ...  "
      ]
     },
     "execution_count": 19,
     "metadata": {},
     "output_type": "execute_result"
    }
   ],
   "source": [
    "df = pd.DataFrame({'job_title':job_title,'company_name':company_name,'experience_required':experience_required,'job_location':job_location})\n",
    "df"
   ]
  },
  {
   "cell_type": "code",
   "execution_count": null,
   "id": "e4851972",
   "metadata": {},
   "outputs": [],
   "source": []
  }
 ],
 "metadata": {
  "kernelspec": {
   "display_name": "Python 3 (ipykernel)",
   "language": "python",
   "name": "python3"
  },
  "language_info": {
   "codemirror_mode": {
    "name": "ipython",
    "version": 3
   },
   "file_extension": ".py",
   "mimetype": "text/x-python",
   "name": "python",
   "nbconvert_exporter": "python",
   "pygments_lexer": "ipython3",
   "version": "3.9.7"
  }
 },
 "nbformat": 4,
 "nbformat_minor": 5
}
